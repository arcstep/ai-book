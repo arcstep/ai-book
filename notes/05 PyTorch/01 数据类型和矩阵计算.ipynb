{
 "cells": [
  {
   "cell_type": "code",
   "execution_count": 1,
   "metadata": {},
   "outputs": [],
   "source": [
    "import numpy as np"
   ]
  },
  {
   "cell_type": "markdown",
   "metadata": {},
   "source": [
    "# 数据类型"
   ]
  },
  {
   "cell_type": "markdown",
   "metadata": {},
   "source": [
    "- 标量 Scalar\n",
    "- 向量 Vector\n",
    "- 矩阵 Martrix\n",
    "- 张量 Tensor"
   ]
  },
  {
   "cell_type": "markdown",
   "metadata": {},
   "source": [
    "# 矩阵运算基础"
   ]
  },
  {
   "cell_type": "markdown",
   "metadata": {},
   "source": [
    "- 矩阵转置\n",
    "- 对陈矩阵：沿着对角线，两侧数据对称的矩阵\n",
    "- 对角矩阵：除对角线外其他项都是0的矩阵\n",
    "- 单位矩阵：对角线都为1的矩阵"
   ]
  },
  {
   "cell_type": "markdown",
   "metadata": {},
   "source": [
    "## 构造对角矩阵"
   ]
  },
  {
   "cell_type": "code",
   "execution_count": 5,
   "metadata": {},
   "outputs": [
    {
     "data": {
      "text/plain": [
       "array([[1, 0, 0],\n",
       "       [0, 8, 0],\n",
       "       [0, 0, 4]])"
      ]
     },
     "execution_count": 5,
     "metadata": {},
     "output_type": "execute_result"
    }
   ],
   "source": [
    "# 构造对角矩阵\n",
    "v = np.array([1, 8, 4])\n",
    "np.diag(v)"
   ]
  },
  {
   "cell_type": "markdown",
   "metadata": {},
   "source": [
    "## 构造单位矩阵"
   ]
  },
  {
   "cell_type": "code",
   "execution_count": 6,
   "metadata": {},
   "outputs": [
    {
     "data": {
      "text/plain": [
       "array([[1., 0., 0.],\n",
       "       [0., 1., 0.],\n",
       "       [0., 0., 1.]])"
      ]
     },
     "execution_count": 6,
     "metadata": {},
     "output_type": "execute_result"
    }
   ],
   "source": [
    "# 构造单位矩阵\n",
    "np.eye(3)"
   ]
  },
  {
   "cell_type": "markdown",
   "metadata": {},
   "source": [
    "## 阿达码积：两个矩阵对应位置上的元素相乘"
   ]
  },
  {
   "cell_type": "code",
   "execution_count": 21,
   "metadata": {},
   "outputs": [
    {
     "name": "stdout",
     "output_type": "stream",
     "text": [
      "--------------------\n",
      "[[0 1]\n",
      " [2 3]]\n",
      "--------------------\n",
      "[[4 5]\n",
      " [6 7]]\n",
      "---------- 阿达码积 ----------\n",
      "[[ 0  5]\n",
      " [12 21]]\n"
     ]
    }
   ],
   "source": [
    "print(\"-\"*20)\n",
    "a = np.array(range(4)).reshape(2, 2)\n",
    "print(a)\n",
    "\n",
    "print(\"-\"*20)\n",
    "b = np.array(range(4, 8)).reshape(2, 2)\n",
    "print(b)\n",
    "\n",
    "print(\"-\"*10, \"阿达码积\", \"-\"*10)\n",
    "print(a*b)"
   ]
  },
  {
   "cell_type": "markdown",
   "metadata": {},
   "source": [
    "## 点积"
   ]
  },
  {
   "cell_type": "code",
   "execution_count": 13,
   "metadata": {},
   "outputs": [
    {
     "data": {
      "text/plain": [
       "array([[ 6,  7],\n",
       "       [26, 31]])"
      ]
     },
     "execution_count": 13,
     "metadata": {},
     "output_type": "execute_result"
    }
   ],
   "source": [
    "# 使用 np.dot 方法做点积运算\n",
    "np.dot(a, b)"
   ]
  },
  {
   "cell_type": "code",
   "execution_count": 15,
   "metadata": {},
   "outputs": [
    {
     "data": {
      "text/plain": [
       "matrix([[ 6,  7],\n",
       "        [26, 31]])"
      ]
     },
     "execution_count": 15,
     "metadata": {},
     "output_type": "execute_result"
    }
   ],
   "source": [
    "# 也可以先将数组转为矩阵，再使用*做点积运算\n",
    "np.asmatrix(a) * np.asmatrix(b)"
   ]
  },
  {
   "cell_type": "markdown",
   "metadata": {},
   "source": [
    "## 对角矩阵操作"
   ]
  },
  {
   "cell_type": "markdown",
   "metadata": {},
   "source": [
    "### 对角矩阵与向量互转"
   ]
  },
  {
   "cell_type": "markdown",
   "metadata": {},
   "source": [
    "`linalg`是`linear algebra`的缩写，直译为线性代数。在NumPy库中，`numpy.linalg`模块提供了许多线性代数的函数，如求解线性方程组、计算行列式、计算矩阵的秩、计算矩阵的特征值和特征向量等。因此，`linalg`的命名代表了这个模块的功能。"
   ]
  },
  {
   "cell_type": "code",
   "execution_count": 18,
   "metadata": {},
   "outputs": [
    {
     "name": "stdout",
     "output_type": "stream",
     "text": [
      "[[1 0 0]\n",
      " [0 2 0]\n",
      " [0 0 3]]\n",
      "--------------------\n",
      "[1. 2. 3.]\n"
     ]
    }
   ],
   "source": [
    "import numpy as np\n",
    "\n",
    "# 从向量到对角矩阵\n",
    "a = np.diag([1, 2, 3])\n",
    "print(a)\n",
    "# 从对角矩阵到向量\n",
    "print(\"-\"*20)\n",
    "v, e = np.linalg.eig(a)\n",
    "print(v)"
   ]
  },
  {
   "cell_type": "markdown",
   "metadata": {},
   "source": [
    "### 对角矩阵幂等运算等于对角线上各值的幂运算"
   ]
  },
  {
   "cell_type": "code",
   "execution_count": 24,
   "metadata": {},
   "outputs": [
    {
     "name": "stdout",
     "output_type": "stream",
     "text": [
      "---------- 阿达码积 ----------\n",
      "[[ 0  1]\n",
      " [ 8 27]]\n",
      "--------------------\n",
      "[[ 0  1]\n",
      " [ 8 27]]\n",
      "--------------------\n",
      "[[ 0  1]\n",
      " [ 8 27]]\n",
      "---------- 对角矩阵的点积与阿达码积相同 ----------\n",
      "[[ 6 11]\n",
      " [22 39]]\n"
     ]
    }
   ],
   "source": [
    "# 4种方法实现对角矩阵3次方\n",
    "print(\"-\"*10, \"阿达码积\", \"-\"*10)\n",
    "print(a*a*a)\n",
    "\n",
    "print(\"-\"*20)\n",
    "print(a**3)\n",
    "\n",
    "print(\"-\"*20)\n",
    "print((a**2)*a)\n",
    "\n",
    "print(\"-\"*10, \"对角矩阵的点积与阿达码积相同\", \"-\"*10)\n",
    "print(a@a@a)"
   ]
  },
  {
   "cell_type": "markdown",
   "metadata": {},
   "source": [
    "### 对角矩阵求逆"
   ]
  },
  {
   "cell_type": "code",
   "execution_count": 30,
   "metadata": {},
   "outputs": [
    {
     "name": "stdout",
     "output_type": "stream",
     "text": [
      "---------- np.linalg.inv对二维数组求逆 ----------\n",
      "[[-1.5  0.5]\n",
      " [ 1.   0. ]]\n",
      "---------- 转换为矩阵后，使用I操作求逆 ----------\n",
      "[[-1.5  0.5]\n",
      " [ 1.   0. ]]\n"
     ]
    }
   ],
   "source": [
    "print(\"-\"*10, \"np.linalg.inv对二维数组求逆\", \"-\"*10)\n",
    "print(np.linalg.inv(a))\n",
    "\n",
    "print(\"-\"*10, \"转换为矩阵后，使用I操作求逆\", \"-\"*10)\n",
    "print(np.matrix(a).I)"
   ]
  },
  {
   "cell_type": "code",
   "execution_count": 26,
   "metadata": {},
   "outputs": [
    {
     "data": {
      "text/plain": [
       "array([[1., 0.],\n",
       "       [0., 1.]])"
      ]
     },
     "execution_count": 26,
     "metadata": {},
     "output_type": "execute_result"
    }
   ],
   "source": [
    "np.linalg.inv(a) @ a"
   ]
  },
  {
   "cell_type": "markdown",
   "metadata": {},
   "source": [
    "### 对角矩阵左乘其他矩阵：等价于对应行乘对角元素"
   ]
  },
  {
   "cell_type": "code",
   "execution_count": 39,
   "metadata": {},
   "outputs": [
    {
     "name": "stdout",
     "output_type": "stream",
     "text": [
      "[[4 5 6]\n",
      " [6 4 2]\n",
      " [6 6 6]]\n"
     ]
    }
   ],
   "source": [
    "a = np.diag([1, 2, 3])\n",
    "b = np.array([\n",
    "    [4, 5, 6],\n",
    "    [3, 2, 1],\n",
    "    [2, 2, 2]\n",
    "])\n",
    "print(a @ b)"
   ]
  },
  {
   "cell_type": "markdown",
   "metadata": {},
   "source": [
    "### 对角矩阵又乘其他矩阵：等价于对应列乘对角元素"
   ]
  },
  {
   "cell_type": "code",
   "execution_count": 41,
   "metadata": {},
   "outputs": [
    {
     "name": "stdout",
     "output_type": "stream",
     "text": [
      "[[ 4 10 18]\n",
      " [ 3  4  3]\n",
      " [ 2  4  6]]\n"
     ]
    }
   ],
   "source": [
    "a = np.diag([1, 2, 3])\n",
    "b = np.array([\n",
    "    [4, 5, 6],\n",
    "    [3, 2, 1],\n",
    "    [2, 2, 2]\n",
    "])\n",
    "print(b @ a)"
   ]
  },
  {
   "cell_type": "code",
   "execution_count": null,
   "metadata": {},
   "outputs": [],
   "source": []
  }
 ],
 "metadata": {
  "kernelspec": {
   "display_name": "langchain-chinese-py3.9-ipkyernel",
   "language": "python",
   "name": "langchain-chinese-py3.9-ipkyernel"
  },
  "language_info": {
   "codemirror_mode": {
    "name": "ipython",
    "version": 3
   },
   "file_extension": ".py",
   "mimetype": "text/x-python",
   "name": "python",
   "nbconvert_exporter": "python",
   "pygments_lexer": "ipython3",
   "version": "3.9.18"
  }
 },
 "nbformat": 4,
 "nbformat_minor": 2
}
