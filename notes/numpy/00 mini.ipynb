{
 "cells": [
  {
   "cell_type": "markdown",
   "metadata": {},
   "source": [
    "# Numpy使用详解"
   ]
  },
  {
   "cell_type": "markdown",
   "metadata": {},
   "source": [
    "Numpy是高性能科学计算和数据分析的基础包，提供了矩阵计算的功能。\n",
    "Numpy提供了以下几个主要功能：\n",
    "\n",
    "- ndarray具有向量计算和广播能力\n",
    "- 标准数学函数工具箱\n",
    "- 读写磁盘和内存\n",
    "- 线性代数、傅立叶变换和随机数操作\n",
    "- 集成C/C++和Fortran代码"
   ]
  },
  {
   "cell_type": "markdown",
   "metadata": {},
   "source": [
    "功能点包括：\n",
    "\n",
    "- 创建Numpy数组\n",
    "- 获取Numpy数组中的维度\n",
    "- 获取本地数据\n",
    "- Numpy数组索引与切片\n",
    "- Numpy数组比较\n",
    "- 替代值\n",
    "- Numpy数据类型转换\n",
    "- Numpy的统计计算方法"
   ]
  },
  {
   "cell_type": "markdown",
   "metadata": {},
   "source": [
    "## 创建Numpy数组"
   ]
  },
  {
   "cell_type": "markdown",
   "metadata": {},
   "source": [
    "在NumPy中，创建数组有很多方法，以下是一些常见的技巧：\n",
    "\n",
    "1. **使用`np.array`函数**：你可以使用这个函数来从一个Python列表或元组创建一个数组。例如，`np.array([1, 2, 3])`会创建一个一维数组。\n",
    "\n",
    "2. **使用`np.zeros`函数**：这个函数可以创建一个全是0的数组。你需要指定数组的形状。\n",
    "\n",
    "3. **使用`np.ones`函数**：这个函数可以创建一个全是1的数组。你需要指定数组的形状。\n",
    "\n",
    "4. **使用`np.empty`函数**：这个函数可以创建一个未初始化的数组。这个数组的元素是随机的，取决于内存的状态。\n",
    "\n",
    "5. **使用`np.arange`函数**：这个函数可以创建一个等差数组。你需要指定开始值、结束值和步长。\n",
    "\n",
    "6. **使用`np.linspace`函数**：这个函数可以创建一个等差数组。你需要指定开始值、结束值和元素数量。\n",
    "\n",
    "7. **使用`np.logspace`函数**：这个函数可以创建一个对数等差数组。你需要指定对数的开始值、结束值和元素数量。\n",
    "\n",
    "8. **使用`np.eye`函数**：这个函数可以创建一个单位矩阵。你需要指定矩阵的行数和列数。"
   ]
  },
  {
   "cell_type": "code",
   "execution_count": 10,
   "metadata": {},
   "outputs": [
    {
     "data": {
      "text/plain": [
       "array([1., 2., 3., 4.])"
      ]
     },
     "execution_count": 10,
     "metadata": {},
     "output_type": "execute_result"
    }
   ],
   "source": [
    "import numpy as np\n",
    "\n",
    "# 一维数组/向量\n",
    "# 注意：数值列被转换为浮点数了\n",
    "np.array([1,2,3,4], dtype='float')"
   ]
  },
  {
   "cell_type": "code",
   "execution_count": 8,
   "metadata": {},
   "outputs": [
    {
     "data": {
      "text/plain": [
       "array([['a', 'b', 'c'],\n",
       "       ['1', '2', '3']], dtype='<U21')"
      ]
     },
     "execution_count": 8,
     "metadata": {},
     "output_type": "execute_result"
    }
   ],
   "source": [
    "# 二维数组/矩阵\n",
    "# 注意：第二列的数值被自动转换为字符串了\n",
    "np.array([['a', 'b', 'c'], [1, 2, 3]])"
   ]
  },
  {
   "cell_type": "markdown",
   "metadata": {},
   "source": [
    "## 获取Numpy数组中的维度"
   ]
  },
  {
   "cell_type": "markdown",
   "metadata": {},
   "source": [
    "NumPy数组有很多有用的属性，以下是一些常见的属性：\n",
    "\n",
    "1. **`ndim`**：这个属性表示数组的维度数量。例如，对于一个二维数组，`ndim`的值是2。\n",
    "\n",
    "2. **`shape`**：这个属性表示数组的形状，即每个维度的大小。例如，对于一个3行4列的二维数组，`shape`的值是`(3, 4)`。\n",
    "\n",
    "3. **`size`**：这个属性表示数组的元素数量。例如，对于一个3行4列的二维数组，`size`的值是12。\n",
    "\n",
    "4. **`dtype`**：这个属性表示数组的数据类型。例如，对于一个整数数组，`dtype`的值可能是`int32`或`int64`。\n",
    "\n",
    "5. **`itemsize`**：这个属性表示每个元素的字节大小。例如，对于一个`int32`类型的数组，`itemsize`的值是4。\n",
    "\n",
    "6. **`nbytes`**：这个属性表示数组的总字节大小。它等于`itemsize`乘以`size`。\n",
    "\n",
    "7. **`flags`**：这个属性包含了数组的内存布局信息。"
   ]
  },
  {
   "cell_type": "markdown",
   "metadata": {},
   "source": [
    "### np.arage\n",
    "\n",
    "`np.arange`是一个非常有用的函数，它可以创建一个等差数组。以下是一些使用`np.arange`的技巧：\n",
    "\n",
    "1. **指定开始和结束值**：`np.arange(start, stop)`会创建一个从`start`到`stop`（不包括`stop`）的等差数组，步长为1。\n",
    "\n",
    "2. **指定步长**：`np.arange(start, stop, step)`会创建一个从`start`到`stop`（不包括`stop`）的等差数组，步长为`step`。\n",
    "\n",
    "3. **只指定结束值**：`np.arange(stop)`会创建一个从0到`stop`（不包括`stop`）的等差数组，步长为1。\n",
    "\n",
    "4. **使用负步长**：你可以使用负数作为步长来创建一个递减的数组。例如，`np.arange(5, 0, -1)`会创建一个从5到1的递减数组。\n",
    "\n",
    "5. **创建浮点数数组**：你可以使用浮点数作为开始值、结束值或步长来创建一个浮点数数组。例如，`np.arange(0, 1, 0.1)`会创建一个从0到1（不包括1）的浮点数数组，步长为0.1。\n",
    "\n",
    "请注意，由于浮点数的精度问题，使用`np.arange`创建浮点数数组时可能无法预测数组的元素数量。在这种情况下，你可能会更倾向于使用`np.linspace`函数，这个函数可以指定数组的元素数量。"
   ]
  },
  {
   "cell_type": "markdown",
   "metadata": {},
   "source": [
    "### np.reshape\n",
    "\n",
    "`np.reshape`函数可以改变数组的形状，而不改变数组的数据。以下是一些使用`np.reshape`的技巧：\n",
    "\n",
    "1. **指定新的形状**：你可以将一个数组的形状改变为任何其他的形状，只要新的形状的元素数量与原来的数组相同。例如，你可以将一个形状为`(3, 4)`的数组改变为形状为`(2, 6)`的数组。\n",
    "\n",
    "2. **使用`-1`来自动计算大小**：在新的形状中，你可以使用`-1`来表示一个维度的大小，这个大小会被自动计算。例如，你可以将一个形状为`(3, 4)`的数组改变为形状为`(-1, 2)`的数组，结果的形状是`(6, 2)`。\n",
    "\n",
    "3. **使用`np.reshape`函数或数组的`reshape`方法**：你可以使用`np.reshape(a, newshape)`函数或数组的`a.reshape(newshape)`方法来改变数组的形状。这两种方法的效果是相同的。\n",
    "\n",
    "4. **改变数组的维度**：你可以使用`np.reshape`来增加或减少数组的维度。例如，你可以将一个一维数组改变为二维数组，或者将一个二维数组改变为三维数组。\n",
    "\n",
    "请注意，`np.reshape`返回的是原数组的一个视图，如果可能的话，它不会复制原数组的数据。如果你需要一个复制的版本，你可以使用`np.reshape(a, newshape).copy()`。"
   ]
  },
  {
   "cell_type": "code",
   "execution_count": 14,
   "metadata": {},
   "outputs": [
    {
     "data": {
      "text/plain": [
       "array([[ 0,  1,  2,  3,  4],\n",
       "       [ 5,  6,  7,  8,  9],\n",
       "       [10, 11, 12, 13, 14]])"
      ]
     },
     "execution_count": 14,
     "metadata": {},
     "output_type": "execute_result"
    }
   ],
   "source": [
    "# 构造维度\n",
    "# 注意： arange -> array range\n",
    "a = np.arange(15).reshape(3, 5)\n",
    "a"
   ]
  },
  {
   "cell_type": "code",
   "execution_count": 15,
   "metadata": {},
   "outputs": [
    {
     "name": "stdout",
     "output_type": "stream",
     "text": [
      "(3, 5)\n"
     ]
    }
   ],
   "source": [
    "print(a.shape)"
   ]
  },
  {
   "cell_type": "markdown",
   "metadata": {},
   "source": [
    "## 获取本地数据"
   ]
  },
  {
   "cell_type": "markdown",
   "metadata": {},
   "source": [
    "除了`genfromtxt`函数，NumPy还提供了其他一些函数来读取本地数据：\n",
    "\n",
    "1. **`loadtxt`函数**：这个函数类似于`genfromtxt`，但是它不支持缺失值和复杂的数据类型。如果你的数据是简单的文本格式，你可以使用这个函数。\n",
    "\n",
    "2. **`fromfile`函数**：这个函数可以从一个文件中读取二进制数据。你需要指定数据的类型和形状。\n",
    "\n",
    "3. **`load`函数**：这个函数可以读取NumPy的`.npy`和`.npz`文件。这些文件可以使用`numpy.save`和`numpy.savez`函数来保存。\n",
    "\n",
    "4. **`fromregex`函数**：这个函数可以使用正则表达式来解析文本文件。\n",
    "\n",
    "此外，如果你的数据是CSV格式，你可能会发现pandas库的`read_csv`函数更加方便。这个函数可以读取CSV文件，并返回一个DataFrame对象，这个对象可以很容易地转换为NumPy数组。"
   ]
  },
  {
   "cell_type": "code",
   "execution_count": 25,
   "metadata": {},
   "outputs": [
    {
     "data": {
      "text/plain": [
       "array([['1', 'iphone max', '12028'],\n",
       "       ['2', 'mate 90 pro', '82012']], dtype='<U75')"
      ]
     },
     "execution_count": 25,
     "metadata": {},
     "output_type": "execute_result"
    }
   ],
   "source": [
    "# 使用 np.genfromtxt() 读取本地数据\n",
    "# genfromtxt的默认分隔符是空格\n",
    "np.genfromtxt('./price.csv', dtype='<U75', skip_header=1, delimiter=',')"
   ]
  },
  {
   "cell_type": "markdown",
   "metadata": {},
   "source": [
    "## Numpy数组索引"
   ]
  },
  {
   "cell_type": "markdown",
   "metadata": {},
   "source": [
    "在NumPy中，除了切片，还有很多其他的数组索引技巧，以下是一些常见的技巧：\n",
    "\n",
    "1. **整数索引**：你可以使用整数来索引数组。例如，`a[0]`会返回数组`a`的第一个元素。\n",
    "\n",
    "2. **负数索引**：你可以使用负数来从数组的末尾开始索引。例如，`a[-1]`会返回数组`a`的最后一个元素。\n",
    "\n",
    "3. **多维索引**：对于多维数组，你可以使用逗号`,`来分隔不同维度的索引。例如，`a[1, 2]`会返回二维数组`a`的第1行第2列的元素。\n",
    "\n",
    "4. **使用整数数组进行索引**：你可以使用一个整数数组来索引另一个数组。例如，如果`b`是一个整数数组，那么`a[b]`会返回一个新的数组，这个数组的元素是`a`的`b`中指定的元素。\n",
    "\n",
    "5. **使用布尔数组进行索引**：你可以使用一个布尔数组来索引另一个数组。例如，如果`b`是一个布尔数组，那么`a[b]`会返回一个新的数组，这个数组的元素是`a`的`b`中为`True`的位置的元素。\n",
    "\n",
    "6. **花式索引**：你可以同时使用多个整数数组来索引数组。例如，如果`b`和`c`都是整数数组，那么`a[b, c]`会返回一个新的数组，这个数组的元素是`a`的`b`和`c`中指定的元素。"
   ]
  },
  {
   "cell_type": "code",
   "execution_count": 37,
   "metadata": {},
   "outputs": [
    {
     "name": "stdout",
     "output_type": "stream",
     "text": [
      "2\n"
     ]
    }
   ],
   "source": [
    "# numpy支持list一样的定位操作\n",
    "matrix = np.array([\n",
    "    [1,2,3],\n",
    "    [4,5,6],\n",
    "    [7,8,9],\n",
    "])\n",
    "print(matrix[0,1])"
   ]
  },
  {
   "cell_type": "markdown",
   "metadata": {},
   "source": [
    "## 切片"
   ]
  },
  {
   "cell_type": "markdown",
   "metadata": {},
   "source": [
    "在NumPy中，切片是一种常见的数组操作，以下是一些常见的切片技巧：\n",
    "\n",
    "1. **基本切片**：你可以使用冒号`:`来进行基本的切片操作。例如，`a[1:5]`会返回数组`a`的第1到第4个元素。\n",
    "\n",
    "2. **步长**：你可以在切片操作中指定步长。例如，`a[::2]`会返回数组`a`的所有偶数索引的元素。\n",
    "\n",
    "3. **负索引**：你可以使用负数来从数组的末尾开始索引。例如，`a[-1]`会返回数组`a`的最后一个元素。\n",
    "\n",
    "4. **多维切片**：对于多维数组，你可以使用逗号`,`来分隔不同维度的切片。例如，`a[1:5, ::2]`会返回二维数组`a`的第1到第4行和所有偶数列的元素。\n",
    "\n",
    "5. **使用整数数组进行索引**：你可以使用一个整数数组来索引另一个数组。例如，如果`b`是一个整数数组，那么`a[b]`会返回一个新的数组，这个数组的元素是`a`的`b`中指定的元素。\n",
    "\n",
    "6. **使用布尔数组进行索引**：你可以使用一个布尔数组来索引另一个数组。例如，如果`b`是一个布尔数组，那么`a[b]`会返回一个新的数组，这个数组的元素是`a`的`b`中为`True`的位置的元素。"
   ]
  },
  {
   "cell_type": "code",
   "execution_count": 38,
   "metadata": {},
   "outputs": [
    {
     "name": "stdout",
     "output_type": "stream",
     "text": [
      "[3 6 9]\n"
     ]
    }
   ],
   "source": [
    "# numpy支持list一样的切片操作\n",
    "print(matrix[:,-1])"
   ]
  },
  {
   "cell_type": "code",
   "execution_count": 39,
   "metadata": {},
   "outputs": [
    {
     "name": "stdout",
     "output_type": "stream",
     "text": [
      "[[5 6]\n",
      " [8 9]]\n"
     ]
    }
   ],
   "source": [
    "print(matrix[-2:,-2:])"
   ]
  },
  {
   "cell_type": "markdown",
   "metadata": {},
   "source": [
    "## Numpy数组比较"
   ]
  },
  {
   "cell_type": "markdown",
   "metadata": {},
   "source": [
    "在NumPy中，比较数组有很多方法，以下是一些常见的技巧：\n",
    "\n",
    "1. **元素级别的比较**：你可以使用比较运算符（如`==`，`!=`，`<`，`>`，`<=`，`>=`）来进行元素级别的比较。例如，`a == b`会返回一个布尔数组，这个数组的每个元素表示`a`和`b`的对应元素是否相等。\n",
    "\n",
    "2. **使用`np.array_equal`函数**：`np.array_equal(a, b)`会检查两个数组是否具有相同的形状和元素，并返回一个布尔值。\n",
    "\n",
    "3. **使用`np.allclose`函数**：`np.allclose(a, b)`会检查两个数组的元素是否近似相等，并返回一个布尔值。你可以通过`rtol`和`atol`参数来设置相对误差和绝对误差的阈值。\n",
    "\n",
    "4. **使用`np.isclose`函数**：`np.isclose(a, b)`会返回一个布尔数组，这个数组的每个元素表示`a`和`b`的对应元素是否近似相等。"
   ]
  },
  {
   "cell_type": "code",
   "execution_count": 68,
   "metadata": {},
   "outputs": [
    {
     "data": {
      "text/plain": [
       "array([[-45, -40, -35],\n",
       "       [-39, -42,  28],\n",
       "       [-47, -34,  27]])"
      ]
     },
     "execution_count": 68,
     "metadata": {},
     "output_type": "execute_result"
    }
   ],
   "source": [
    "a = np.array([\n",
    "    [5, 10, 15],\n",
    "    [11, 8, 78],\n",
    "    [3, 16, 77],\n",
    "])\n",
    "\n",
    "a - 50"
   ]
  },
  {
   "cell_type": "code",
   "execution_count": 66,
   "metadata": {},
   "outputs": [
    {
     "data": {
      "text/plain": [
       "array([[False,  True],\n",
       "       [False,  True]])"
      ]
     },
     "execution_count": 66,
     "metadata": {},
     "output_type": "execute_result"
    }
   ],
   "source": [
    "a[-2:,-2:] > 50"
   ]
  },
  {
   "cell_type": "markdown",
   "metadata": {},
   "source": [
    "## 替代值"
   ]
  },
  {
   "cell_type": "markdown",
   "metadata": {},
   "source": [
    "NumPy可以用布尔值来替换值。"
   ]
  },
  {
   "cell_type": "markdown",
   "metadata": {},
   "source": [
    "以下是一些常见的技巧：\n",
    "\n",
    "1. **使用布尔索引**：你可以创建一个布尔数组，然后使用这个数组来索引原数组，替换选中的元素。例如，`a[a > 0] = 0`会将数组`a`中所有大于0的元素替换为0。\n",
    "\n",
    "2. **使用`np.where`函数**：`np.where`函数可以根据一个条件来替换数组中的值。例如，`np.where(a > 0, 1, 0)`会返回一个新的数组，这个数组中所有大于0的元素都被替换为1，其他元素被替换为0。\n",
    "\n",
    "3. **使用`np.clip`函数**：`np.clip`函数可以将数组中的值限制在一个范围内。例如，`np.clip(a, 0, 1)`会返回一个新的数组，这个数组中所有小于0的元素都被替换为0，所有大于1的元素都被替换为1。\n",
    "\n",
    "4. **使用`np.select`函数**：`np.select`函数可以根据多个条件来替换数组中的值。例如，`np.select([a < 0, a > 0], [-1, 1])`会返回一个新的数组，这个数组中所有小于0的元素都被替换为-1，所有大于0的元素都被替换为1。"
   ]
  },
  {
   "cell_type": "code",
   "execution_count": 69,
   "metadata": {},
   "outputs": [
    {
     "name": "stdout",
     "output_type": "stream",
     "text": [
      "[[50 50 50]\n",
      " [50 50 78]\n",
      " [50 50 77]]\n"
     ]
    }
   ],
   "source": [
    "a[a < 50] = 50\n",
    "print(a)"
   ]
  },
  {
   "cell_type": "markdown",
   "metadata": {},
   "source": [
    "## Numpy数据类型转换"
   ]
  },
  {
   "cell_type": "markdown",
   "metadata": {},
   "source": [
    "NumPy支持的数据类型包括：\n",
    "\n",
    "- 整数类型：`int8`，`int16`，`int32`，`int64`，`uint8`，`uint16`，`uint32`，`uint64`。其中，`int`表示有符号整数，`uint`表示无符号整数，后面的数字表示每个元素的位数。\n",
    "\n",
    "- 浮点数类型：`float16`，`float32`，`float64`。后面的数字表示每个元素的位数。\n",
    "\n",
    "- 复数类型：`complex64`，`complex128`。这些类型用于表示复数，后面的数字表示每个元素的位数。\n",
    "\n",
    "- 布尔类型：`bool`。这个类型用于表示布尔值，即`True`和`False`。\n",
    "\n",
    "- 字符串类型：`string_`。这个类型用于表示字符串。\n",
    "\n",
    "- 对象类型：`object`。这个类型用于表示Python对象。\n",
    "\n",
    "- 时间日期类型：`datetime64`。这个类型用于表示日期和时间。\n",
    "\n",
    "- 时间间隔类型：`timedelta64`。这个类型用于表示时间间隔。"
   ]
  },
  {
   "cell_type": "code",
   "execution_count": 71,
   "metadata": {},
   "outputs": [
    {
     "data": {
      "text/plain": [
       "array([1., 2., 3.])"
      ]
     },
     "execution_count": 71,
     "metadata": {},
     "output_type": "execute_result"
    }
   ],
   "source": [
    "v = np.array([\"1\", \"2\", \"3\"])\n",
    "v.astype(float)"
   ]
  },
  {
   "cell_type": "markdown",
   "metadata": {},
   "source": [
    "## Numpy的统计计算方法"
   ]
  },
  {
   "cell_type": "markdown",
   "metadata": {},
   "source": [
    "在NumPy中，`axis`参数用于指定沿着哪个轴进行操作。在二维数组（即矩阵）中，`axis=0`表示沿着列（即竖直方向）进行操作，`axis=1`表示沿着行（即水平方向）进行操作。\n",
    "\n",
    "- 如果你有一个二维数组`a`，你可以使用`a.max(axis=0)`来找到每一列的最大值，结果是一个一维数组，数组的每个元素是对应列的最大值。你也可以使用`a.max(axis=1)`来找到每一行的最大值，结果也是一个一维数组，数组的每个元素是对应行的最大值。\n",
    "\n",
    "- 如果你不指定`axis`参数，那么NumPy会对数组中的所有元素进行操作。例如，`a.max()`会返回数组中的最大值。\n",
    "\n",
    "- 对于更高维度的数组，`axis`参数可以是一个元组，表示同时沿着多个轴进行操作。例如，对于一个三维数组，`axis=(0, 1)`表示先沿着第0轴，然后沿着第1轴进行操作。"
   ]
  },
  {
   "cell_type": "code",
   "execution_count": 73,
   "metadata": {},
   "outputs": [
    {
     "data": {
      "text/plain": [
       "505"
      ]
     },
     "execution_count": 73,
     "metadata": {},
     "output_type": "execute_result"
    }
   ],
   "source": [
    "a.sum()"
   ]
  },
  {
   "cell_type": "code",
   "execution_count": 76,
   "metadata": {},
   "outputs": [
    {
     "data": {
      "text/plain": [
       "array([50.        , 59.33333333, 59.        ])"
      ]
     },
     "execution_count": 76,
     "metadata": {},
     "output_type": "execute_result"
    }
   ],
   "source": [
    "a.mean(axis=1)"
   ]
  },
  {
   "cell_type": "code",
   "execution_count": 77,
   "metadata": {},
   "outputs": [
    {
     "data": {
      "text/plain": [
       "array([50, 50, 78])"
      ]
     },
     "execution_count": 77,
     "metadata": {},
     "output_type": "execute_result"
    }
   ],
   "source": [
    "a.max(axis=0)"
   ]
  },
  {
   "cell_type": "code",
   "execution_count": null,
   "metadata": {},
   "outputs": [],
   "source": []
  }
 ],
 "metadata": {
  "kernelspec": {
   "display_name": "langchain-chinese-py3.9-ipkyernel",
   "language": "python",
   "name": "langchain-chinese-py3.9-ipkyernel"
  },
  "language_info": {
   "codemirror_mode": {
    "name": "ipython",
    "version": 3
   },
   "file_extension": ".py",
   "mimetype": "text/x-python",
   "name": "python",
   "nbconvert_exporter": "python",
   "pygments_lexer": "ipython3",
   "version": "3.9.18"
  }
 },
 "nbformat": 4,
 "nbformat_minor": 2
}
