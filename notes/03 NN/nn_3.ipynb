{
 "cells": [
  {
   "cell_type": "markdown",
   "metadata": {},
   "source": [
    "# 神经网络框架的基本原理"
   ]
  },
  {
   "cell_type": "markdown",
   "metadata": {},
   "source": [
    "## 实现原理\n",
    "\n",
    "一个普通的神经网络运算流程，主要包括：\n",
    "\n",
    "- 输入数据\n",
    "- 网络层前向传播\n",
    "- 计算损失\n",
    "- 网络层反向传播梯度\n",
    "- 更新参数\n",
    "\n",
    "这里将神经网络抽象为4个组件：\n",
    "- 数据输入：一般构建为tensor张量\n",
    "- 计算层（包括激活函数）：负责接收上一层输入，将结果输出给下一层，实现向前和向后两个方向的计算\n",
    "- 损失计算：给定预测值和真实值后，使用该组件计算损失值和最后一层梯度\n",
    "- 优化器：使用求解后的梯度更新模型的参数矩阵"
   ]
  },
  {
   "cell_type": "markdown",
   "metadata": {},
   "source": [
    "## 另一个模型定义"
   ]
  },
  {
   "cell_type": "code",
   "execution_count": 11,
   "metadata": {},
   "outputs": [],
   "source": [
    "import os\n",
    "import torch\n",
    "import numpy as np\n",
    "from tqdm import tqdm\n",
    "from torchvision import datasets, transforms\n",
    "\n",
    "os.environ['CUDA_VISIBLE_DEVICES'] = '0'\n",
    "\n",
    "batch_size = 320\n",
    "epochs = 1024\n",
    "\n",
    "#device = \"cuda\"\n",
    "device = \"cpu\"\n",
    "\n",
    "# 创建一个三层全连接网络\n",
    "class NeuralNetwork(torch.nn.Module):\n",
    "    def __init__(self):\n",
    "        super(NeuralNetwork, self).__init__()\n",
    "        self.flatten = torch.nn.Flatten()\n",
    "        self.linear_relu_stack = torch.nn.Sequential(\n",
    "            torch.nn.Linear(28*28, 312),\n",
    "            torch.nn.ReLU(),\n",
    "            torch.nn.Linear(312, 256),\n",
    "            torch.nn.ReLU(),\n",
    "            torch.nn.Linear(256, 10),\n",
    "        )\n",
    "    def forward(self, input):\n",
    "        x = self.faltten(input)\n",
    "        logits = self.linear_relu_stack(x)\n",
    "        return logits\n",
    "\n",
    "# 加载模型\n",
    "model = NeuralNetwork()\n",
    "model = model.to(device)\n",
    "model = torch.compile(model)\n",
    "\n",
    "# 损失函数\n",
    "loss_fu = torch.nn.CrossEntropyLoss()\n",
    "\n",
    "# 求解器\n",
    "optimizer = torch.optim.Adam(model.parameters(), lr=2e-5)\n",
    "\n",
    "# 数据预处理（转tensor、数值归一化）\n",
    "transform = transforms.Compose([\n",
    "    transforms.ToTensor(),\n",
    "    transforms.Normalize((0.1307,), (0.3081,))\n",
    "])\n",
    "\n",
    "# 自动下载MNIST数据集\n",
    "dataset_train = datasets.MNIST('data', train=True, download=True, transform=transform)\n",
    "dataset_test = datasets.MNIST('data', train=False, transform=transform)\n",
    "\n",
    "# 定义数据加载器（自动对数据加载、多线程、随机化、划分batch、等等）\n",
    "train_loader = torch.utils.data.DataLoader(dataset_train, batch_size=batch_size)\n",
    "test_loader = torch.utils.data.DataLoader(dataset_test, batch_size=batch_size)"
   ]
  },
  {
   "cell_type": "code",
   "execution_count": 13,
   "metadata": {},
   "outputs": [
    {
     "data": {
      "text/plain": [
       "Dataset MNIST\n",
       "    Number of datapoints: 60000\n",
       "    Root location: data\n",
       "    Split: Train\n",
       "    StandardTransform\n",
       "Transform: Compose(\n",
       "               ToTensor()\n",
       "               Normalize(mean=(0.1307,), std=(0.3081,))\n",
       "           )"
      ]
     },
     "execution_count": 13,
     "metadata": {},
     "output_type": "execute_result"
    }
   ],
   "source": [
    "print(dataset_train)"
   ]
  },
  {
   "cell_type": "code",
   "execution_count": null,
   "metadata": {},
   "outputs": [],
   "source": []
  }
 ],
 "metadata": {
  "kernelspec": {
   "display_name": "langchain-zhipu-Ddey8KS3-py3.9",
   "language": "python",
   "name": "python3"
  },
  "language_info": {
   "codemirror_mode": {
    "name": "ipython",
    "version": 3
   },
   "file_extension": ".py",
   "mimetype": "text/x-python",
   "name": "python",
   "nbconvert_exporter": "python",
   "pygments_lexer": "ipython3",
   "version": "3.9.18"
  }
 },
 "nbformat": 4,
 "nbformat_minor": 2
}
