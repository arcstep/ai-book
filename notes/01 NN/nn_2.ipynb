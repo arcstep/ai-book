{
 "cells": [
  {
   "cell_type": "markdown",
   "metadata": {},
   "source": [
    "# 定义pytorch版本的神经网络"
   ]
  },
  {
   "cell_type": "code",
   "execution_count": 1,
   "metadata": {},
   "outputs": [],
   "source": [
    "# !pip install torch"
   ]
  },
  {
   "cell_type": "code",
   "execution_count": 2,
   "metadata": {},
   "outputs": [],
   "source": [
    "# !pip install torchvision"
   ]
  },
  {
   "cell_type": "markdown",
   "metadata": {},
   "source": [
    "## 定义"
   ]
  },
  {
   "cell_type": "code",
   "execution_count": null,
   "metadata": {},
   "outputs": [],
   "source": [
    "from __future__ import print_function\n",
    "import torch\n",
    "import torch.nn as nn\n",
    "import torch.nn.functional as F\n",
    "import torch.optim as optim\n",
    "from torchvision import datasets, transforms\n",
    "from torch.optim.lr_scheduler import StepLR\n",
    "\n",
    "BATCH_SIZE = 64\n",
    "TEST_BACTH_SIZE = 1000\n",
    "EPOCHS = 5\n",
    "LR = 0.01\n",
    "SEED = 42\n",
    "LOG_INTERVAL = 100\n",
    "\n",
    "# 定义一个全连接网络\n",
    "class FeedForwardNet(nn.Module):\n",
    "    def __init__(self):\n",
    "        super().__init__()\n",
    "        # 第一层784维输入、256维输出 -- 图像大小28×28=784\n",
    "        self.fc1 = nn.Linear(784, 256)\n",
    "        # 第二层256维输入、128维输出\n",
    "        self.fc2 = nn.Linear(256, 128)\n",
    "        # 第三层128维输入、64维输出\n",
    "        self.fc3 = nn.Linear(128, 64)\n",
    "        # 第四层64维输入、10维输出 -- 输出类别10类（0,1,...9）\n",
    "        self.fc4 = nn.Linear(64, 10)\n",
    "\n",
    "        # Dropout module with 0.2 drop probability\n",
    "        self.dropout = nn.Dropout(p=0.2)\n",
    "\n",
    "    def forward(self, x):\n",
    "        # 把输入展平成1D向量\n",
    "        x = x.view(x.shape[0], -1)\n",
    "\n",
    "        # 每层激活函数是ReLU，额外加dropout\n",
    "        x = self.dropout(F.relu(self.fc1(x)))\n",
    "        x = self.dropout(F.relu(self.fc2(x)))\n",
    "        x = self.dropout(F.relu(self.fc3(x)))\n",
    "\n",
    "        # 输出为10维概率分布\n",
    "        x = F.log_softmax(self.fc4(x), dim=1)\n",
    "\n",
    "        return x"
   ]
  },
  {
   "cell_type": "markdown",
   "metadata": {},
   "source": [
    "## 训练"
   ]
  },
  {
   "cell_type": "code",
   "execution_count": null,
   "metadata": {},
   "outputs": [],
   "source": [
    "\n",
    "# 训练过程\n",
    "def train(model, loss_fn, device, train_loader, optimizer, epoch):\n",
    "    # 开启梯度计算\n",
    "    model.train()\n",
    "    for batch_idx, (data_input, true_label) in enumerate(train_loader):\n",
    "        # 从数据加载器读取一个batch\n",
    "        # 把数据上载到GPU（如有）\n",
    "        data_input, true_label = data_input.to(device), true_label.to(device)\n",
    "        # 求解器初始化（每个batch初始化一次）\n",
    "        optimizer.zero_grad()\n",
    "        # 正向传播：模型由输入预测输出\n",
    "        output = model(data_input)\n",
    "        # 计算loss\n",
    "        loss = loss_fn(output, true_label)\n",
    "        # 反向传播：计算当前batch的loss的梯度\n",
    "        loss.backward()\n",
    "        # 由求解器根据梯度更新模型参数\n",
    "        optimizer.step()\n",
    "\n",
    "        # 间隔性的输出当前batch的训练loss\n",
    "        if batch_idx % LOG_INTERVAL == 0:\n",
    "            print('Train Epoch: {} [{}/{} ({:.0f}%)]\\tLoss: {:.6f}'.format(\n",
    "                epoch, batch_idx * len(data_input), len(train_loader.dataset),\n",
    "                100. * batch_idx / len(train_loader), loss.item()))"
   ]
  },
  {
   "cell_type": "markdown",
   "metadata": {},
   "source": [
    "## 测试"
   ]
  },
  {
   "cell_type": "code",
   "execution_count": null,
   "metadata": {},
   "outputs": [
    {
     "name": "stdout",
     "output_type": "stream",
     "text": [
      "Downloading http://yann.lecun.com/exdb/mnist/train-images-idx3-ubyte.gz\n",
      "Downloading http://yann.lecun.com/exdb/mnist/train-images-idx3-ubyte.gz to data/MNIST/raw/train-images-idx3-ubyte.gz\n"
     ]
    },
    {
     "name": "stderr",
     "output_type": "stream",
     "text": [
      "100%|██████████| 9912422/9912422 [00:02<00:00, 4914805.53it/s]\n"
     ]
    },
    {
     "name": "stdout",
     "output_type": "stream",
     "text": [
      "Extracting data/MNIST/raw/train-images-idx3-ubyte.gz to data/MNIST/raw\n",
      "\n",
      "Downloading http://yann.lecun.com/exdb/mnist/train-labels-idx1-ubyte.gz\n",
      "Downloading http://yann.lecun.com/exdb/mnist/train-labels-idx1-ubyte.gz to data/MNIST/raw/train-labels-idx1-ubyte.gz\n"
     ]
    },
    {
     "name": "stderr",
     "output_type": "stream",
     "text": [
      "100%|██████████| 28881/28881 [00:00<00:00, 343804.39it/s]\n"
     ]
    },
    {
     "name": "stdout",
     "output_type": "stream",
     "text": [
      "Extracting data/MNIST/raw/train-labels-idx1-ubyte.gz to data/MNIST/raw\n",
      "\n",
      "Downloading http://yann.lecun.com/exdb/mnist/t10k-images-idx3-ubyte.gz\n",
      "Downloading http://yann.lecun.com/exdb/mnist/t10k-images-idx3-ubyte.gz to data/MNIST/raw/t10k-images-idx3-ubyte.gz\n"
     ]
    },
    {
     "name": "stderr",
     "output_type": "stream",
     "text": [
      "100%|██████████| 1648877/1648877 [00:01<00:00, 997949.29it/s] \n"
     ]
    },
    {
     "name": "stdout",
     "output_type": "stream",
     "text": [
      "Extracting data/MNIST/raw/t10k-images-idx3-ubyte.gz to data/MNIST/raw\n",
      "\n",
      "Downloading http://yann.lecun.com/exdb/mnist/t10k-labels-idx1-ubyte.gz\n",
      "Downloading http://yann.lecun.com/exdb/mnist/t10k-labels-idx1-ubyte.gz to data/MNIST/raw/t10k-labels-idx1-ubyte.gz\n"
     ]
    },
    {
     "name": "stderr",
     "output_type": "stream",
     "text": [
      "100%|██████████| 4542/4542 [00:00<00:00, 7520935.16it/s]\n"
     ]
    },
    {
     "name": "stdout",
     "output_type": "stream",
     "text": [
      "Extracting data/MNIST/raw/t10k-labels-idx1-ubyte.gz to data/MNIST/raw\n",
      "\n",
      "Train Epoch: 1 [0/60000 (0%)]\tLoss: 2.287443\n",
      "Train Epoch: 1 [6400/60000 (11%)]\tLoss: 2.284967\n",
      "Train Epoch: 1 [12800/60000 (21%)]\tLoss: 2.273498\n",
      "Train Epoch: 1 [19200/60000 (32%)]\tLoss: 2.022655\n",
      "Train Epoch: 1 [25600/60000 (43%)]\tLoss: 1.680804\n",
      "Train Epoch: 1 [32000/60000 (53%)]\tLoss: 1.322924\n",
      "Train Epoch: 1 [38400/60000 (64%)]\tLoss: 0.978829\n",
      "Train Epoch: 1 [44800/60000 (75%)]\tLoss: 0.955913\n",
      "Train Epoch: 1 [51200/60000 (85%)]\tLoss: 0.670626\n",
      "Train Epoch: 1 [57600/60000 (96%)]\tLoss: 0.821396\n",
      "\n",
      "Test set: Average loss: 0.5133, Accuracy: 8524/10000 (85%)\n",
      "\n",
      "Train Epoch: 2 [0/60000 (0%)]\tLoss: 0.740045\n",
      "Train Epoch: 2 [6400/60000 (11%)]\tLoss: 0.698195\n",
      "Train Epoch: 2 [12800/60000 (21%)]\tLoss: 0.676256\n",
      "Train Epoch: 2 [19200/60000 (32%)]\tLoss: 0.531444\n",
      "Train Epoch: 2 [25600/60000 (43%)]\tLoss: 0.457620\n",
      "Train Epoch: 2 [32000/60000 (53%)]\tLoss: 0.622829\n",
      "Train Epoch: 2 [38400/60000 (64%)]\tLoss: 0.354776\n",
      "Train Epoch: 2 [44800/60000 (75%)]\tLoss: 0.588438\n",
      "Train Epoch: 2 [51200/60000 (85%)]\tLoss: 0.530390\n",
      "Train Epoch: 2 [57600/60000 (96%)]\tLoss: 0.532874\n",
      "\n",
      "Test set: Average loss: 0.3202, Accuracy: 9037/10000 (90%)\n",
      "\n",
      "Train Epoch: 3 [0/60000 (0%)]\tLoss: 0.424804\n",
      "Train Epoch: 3 [6400/60000 (11%)]\tLoss: 0.300566\n",
      "Train Epoch: 3 [12800/60000 (21%)]\tLoss: 0.329820\n",
      "Train Epoch: 3 [19200/60000 (32%)]\tLoss: 0.363803\n",
      "Train Epoch: 3 [25600/60000 (43%)]\tLoss: 0.386950\n",
      "Train Epoch: 3 [32000/60000 (53%)]\tLoss: 0.435891\n",
      "Train Epoch: 3 [38400/60000 (64%)]\tLoss: 0.266594\n",
      "Train Epoch: 3 [44800/60000 (75%)]\tLoss: 0.464383\n",
      "Train Epoch: 3 [51200/60000 (85%)]\tLoss: 0.264058\n",
      "Train Epoch: 3 [57600/60000 (96%)]\tLoss: 0.480446\n",
      "\n",
      "Test set: Average loss: 0.2456, Accuracy: 9261/10000 (93%)\n",
      "\n",
      "Train Epoch: 4 [0/60000 (0%)]\tLoss: 0.344691\n",
      "Train Epoch: 4 [6400/60000 (11%)]\tLoss: 0.222303\n",
      "Train Epoch: 4 [12800/60000 (21%)]\tLoss: 0.200596\n",
      "Train Epoch: 4 [19200/60000 (32%)]\tLoss: 0.300936\n",
      "Train Epoch: 4 [25600/60000 (43%)]\tLoss: 0.282076\n",
      "Train Epoch: 4 [32000/60000 (53%)]\tLoss: 0.424593\n",
      "Train Epoch: 4 [38400/60000 (64%)]\tLoss: 0.161063\n",
      "Train Epoch: 4 [44800/60000 (75%)]\tLoss: 0.374423\n",
      "Train Epoch: 4 [51200/60000 (85%)]\tLoss: 0.273447\n",
      "Train Epoch: 4 [57600/60000 (96%)]\tLoss: 0.498040\n",
      "\n",
      "Test set: Average loss: 0.2007, Accuracy: 9389/10000 (94%)\n",
      "\n",
      "Train Epoch: 5 [0/60000 (0%)]\tLoss: 0.175686\n",
      "Train Epoch: 5 [6400/60000 (11%)]\tLoss: 0.350296\n",
      "Train Epoch: 5 [12800/60000 (21%)]\tLoss: 0.231449\n",
      "Train Epoch: 5 [19200/60000 (32%)]\tLoss: 0.277996\n",
      "Train Epoch: 5 [25600/60000 (43%)]\tLoss: 0.248128\n",
      "Train Epoch: 5 [32000/60000 (53%)]\tLoss: 0.339591\n",
      "Train Epoch: 5 [38400/60000 (64%)]\tLoss: 0.174389\n",
      "Train Epoch: 5 [44800/60000 (75%)]\tLoss: 0.384094\n",
      "Train Epoch: 5 [51200/60000 (85%)]\tLoss: 0.238967\n",
      "Train Epoch: 5 [57600/60000 (96%)]\tLoss: 0.279552\n",
      "\n",
      "Test set: Average loss: 0.1719, Accuracy: 9462/10000 (95%)\n",
      "\n"
     ]
    }
   ],
   "source": [
    "\n",
    "# 计算在测试集的准确率和loss\n",
    "def test(model, loss_fn, device, test_loader):\n",
    "    model.eval()\n",
    "    test_loss = 0\n",
    "    correct = 0\n",
    "    with torch.no_grad():\n",
    "        for data, target in test_loader:\n",
    "            data, target = data.to(device), target.to(device)\n",
    "            output = model(data)\n",
    "            # sum up batch loss\n",
    "            test_loss += loss_fn(output, target, reduction='sum').item()\n",
    "            # get the index of the max log-probability\n",
    "            pred = output.argmax(dim=1, keepdim=True)\n",
    "            correct += pred.eq(target.view_as(pred)).sum().item()\n",
    "\n",
    "    test_loss /= len(test_loader.dataset)\n",
    "\n",
    "    print('\\nTest set: Average loss: {:.4f}, Accuracy: {}/{} ({:.0f}%)\\n'.format(\n",
    "        test_loss, correct, len(test_loader.dataset),\n",
    "        100. * correct / len(test_loader.dataset)))\n",
    "\n",
    "\n",
    "def main():\n",
    "    # 检查是否有GPU\n",
    "    use_cuda = torch.cuda.is_available()\n",
    "\n",
    "    # 设置随机种子（以保证结果可复现）\n",
    "    torch.manual_seed(SEED)\n",
    "\n",
    "    # 训练设备（GPU或CPU）\n",
    "    device = torch.device(\"cuda\" if use_cuda else \"cpu\")\n",
    "\n",
    "    # 设置batch size\n",
    "    train_kwargs = {'batch_size': BATCH_SIZE}\n",
    "    test_kwargs = {'batch_size': TEST_BACTH_SIZE}\n",
    "\n",
    "    if use_cuda:\n",
    "        cuda_kwargs = {'num_workers': 1,\n",
    "                       'pin_memory': True,\n",
    "                       'shuffle': True}\n",
    "        train_kwargs.update(cuda_kwargs)\n",
    "        test_kwargs.update(cuda_kwargs)\n",
    "\n",
    "    # 数据预处理（转tensor、数值归一化）\n",
    "    transform = transforms.Compose([\n",
    "        transforms.ToTensor(),\n",
    "        transforms.Normalize((0.1307,), (0.3081,))\n",
    "    ])\n",
    "\n",
    "    # 自动下载MNIST数据集\n",
    "    dataset_train = datasets.MNIST('data', train=True, download=True,\n",
    "                                   transform=transform)\n",
    "    dataset_test = datasets.MNIST('data', train=False,\n",
    "                                  transform=transform)\n",
    "\n",
    "    # 定义数据加载器（自动对数据加载、多线程、随机化、划分batch、等等）\n",
    "    train_loader = torch.utils.data.DataLoader(dataset_train, **train_kwargs)\n",
    "    test_loader = torch.utils.data.DataLoader(dataset_test, **test_kwargs)\n",
    "\n",
    "    # 创建神经网络模型\n",
    "    model = FeedForwardNet().to(device)\n",
    "\n",
    "    # 指定求解器\n",
    "    optimizer = optim.SGD(model.parameters(), lr=LR)\n",
    "    # scheduler = StepLR(optimizer, step_size=1, gamma=0.9)\n",
    "\n",
    "    # 定义loss函数\n",
    "    # 注：nll 作用于 log_softmax 等价于交叉熵，感兴趣的同学可以自行推导\n",
    "    # https://blog.csdn.net/weixin_38145317/article/details/103288032\n",
    "    loss_fn = F.nll_loss\n",
    "\n",
    "    # 训练N个epoch\n",
    "    for epoch in range(1, EPOCHS + 1):\n",
    "        train(model, loss_fn, device, train_loader, optimizer, epoch)\n",
    "        test(model, loss_fn, device, test_loader)\n",
    "        # scheduler.step()\n",
    "        \n",
    "main()"
   ]
  }
 ],
 "metadata": {
  "kernelspec": {
   "display_name": "langchain-zhipu-Ddey8KS3-py3.9",
   "language": "python",
   "name": "python3"
  },
  "language_info": {
   "codemirror_mode": {
    "name": "ipython",
    "version": 3
   },
   "file_extension": ".py",
   "mimetype": "text/x-python",
   "name": "python",
   "nbconvert_exporter": "python",
   "pygments_lexer": "ipython3",
   "version": "3.9.18"
  }
 },
 "nbformat": 4,
 "nbformat_minor": 2
}
